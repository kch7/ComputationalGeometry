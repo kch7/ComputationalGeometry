{
 "cells": [
  {
   "cell_type": "code",
   "execution_count": null,
   "id": "a025d347",
   "metadata": {},
   "outputs": [],
   "source": [
    "import numpy as np\n",
    "import math\n",
    "import itertools\n",
    "from matplotlib import pyplot as plt\n",
    "from mpl_toolkits.mplot3d.art3d import Poly3DCollection\n",
    "import random\n",
    "from matplotlib.colors import ListedColormap"
   ]
  },
  {
   "cell_type": "code",
   "execution_count": null,
   "id": "2e3003b2",
   "metadata": {},
   "outputs": [],
   "source": [
    "#I create the Voronoi Diagram by using lifted points. I have n pairs of points (x,y) in 2D. I lift them to 3D by using the formula (x,y,x^2+y^2).\n",
    "#Then, I create the tangent planes for each lifted point. The equation of the tangent plane at point (x0,y0,z0) is given by z = 2*x0*(x-x0) + 2*y0*(y-y0) + z0\n",
    "#This simplifies to z = 2*x0*x + 2*y0*y - (x0^2 + y0^2)\n",
    "#I compute the value of each tangent plane at each point of a grid in the xy-plane. The Voronoi region for each point corresponds to the area where\n",
    "#its tangent plane is the highest among all tangent planes. The edges of the Voronoi diagram are found where the maximum tangent plane changes from one point to another.\n",
    "# Finally, I plot the Voronoi diagram by coloring the regions and drawing the edges.\n",
    "\n",
    "\n",
    "def CreateVoronoi(points:list,x,y,z):    \n",
    "    tangents= np.array([[2*pt[0],2*pt[1],-((pt[0]*pt[0])+(pt[1]*pt[1]))] for pt in points])\n",
    "    xx,yy=np.meshgrid(np.linspace(min(x)-10,max(x)+10,300),np.linspace(min(y)-10,max(y)+10,300))\n",
    "    tangvals=np.array([a*xx+b*yy+c for (a,b,c) in tangents])\n",
    "    maxima=np.argmax(tangvals,axis=0)\n",
    "    edges=np.zeros_like(maxima,dtype=bool)\n",
    "    edges[1:, :] |= maxima[1:,:] != maxima[:-1, :]\n",
    "    edges[:, 1:] |= maxima[:,1:] != maxima[:, :-1]\n",
    "\n",
    "    return edges,maxima,xx,yy\n",
    "\n",
    "def PlotVoronoi(ax,edges,maxima,xx,yy,x,y,points:list,s):\n",
    "    colors = plt.cm.tab20(np.linspace(0, 1, s))\n",
    "    cmap = ListedColormap(colors)\n",
    "\n",
    "    ax.imshow(maxima, extent=(min(x)-10, max(x)+10, min(y)-10, max(y)+10),\n",
    "          cmap=cmap, origin='lower', alpha=0.4)\n",
    "    ax.contour(xx, yy, edges, levels=[0.2], colors='k', linewidths=1.5)\n",
    "    ax.scatter(x, y, c='blue', s=20, edgecolors='k')\n",
    "\n",
    "    for i, (xi, yi) in enumerate(points):\n",
    "        ax.text(xi+0.05, yi+0.05, f\"p{i+1}\", fontsize=10, weight='bold',color='black')\n",
    "\n",
    "    ax.set_aspect('equal')\n",
    "    ax.set_title(\"Voronoi Diagram via Tangent Planes\", fontsize=12)\n",
    "    ax.set_xlabel(\"X-axis\")\n",
    "    ax.set_ylabel(\"Y-axis\")"
   ]
  },
  {
   "cell_type": "code",
   "execution_count": null,
   "id": "f89e366b",
   "metadata": {},
   "outputs": [],
   "source": [
    "if __name__==\"__main__\":\n",
    "    print(\"Voronoi Diagram\")\n",
    "    print(\"This program prints the Voronoi Diagram of a set of points by lifting at first the given 2D points to 3D.\")\n",
    "    s=int(input(\"Please, give me the number of points used in Voronoi Diagram : \"))\n",
    "    a=int(input(\"Please, give me the first value for the coordinate : \"))\n",
    "    b=int(input(\"Please, give me the second value for the coordinate : \"))\n",
    "    L = np.random.randint(a, b, (s, 2))\n",
    "    points=[(x,y,x**2+y**2) for x,y in L]   \n",
    "    xf,yf,zf=zip(*points)\n",
    "    Points = [(pt[0], pt[1]) for pt in points]\n",
    "    fig,ax1=plt.subplots(figsize=(8,8))\n",
    "    edges,maxima,xx,yy=CreateVoronoi(Points,xf,yf,zf)\n",
    "    PlotVoronoi(ax1,edges,maxima,xx,yy,xf,yf,Points,s)\n",
    "    plt.tight_layout()\n",
    "    plt.show()"
   ]
  }
 ],
 "metadata": {
  "kernelspec": {
   "display_name": "Python 3",
   "language": "python",
   "name": "python3"
  },
  "language_info": {
   "codemirror_mode": {
    "name": "ipython",
    "version": 3
   },
   "file_extension": ".py",
   "mimetype": "text/x-python",
   "name": "python",
   "nbconvert_exporter": "python",
   "pygments_lexer": "ipython3",
   "version": "3.10.18"
  }
 },
 "nbformat": 4,
 "nbformat_minor": 5
}
